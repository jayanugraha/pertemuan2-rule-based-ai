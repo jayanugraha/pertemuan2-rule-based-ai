{
 "cells": [
  {
   "cell_type": "markdown",
   "metadata": {},
   "source": [
    "Mengamati dalam memilih mobil"
   ]
  },
  {
   "cell_type": "markdown",
   "metadata": {},
   "source": [
    "Backward Chaining"
   ]
  },
  {
   "cell_type": "code",
   "execution_count": 3,
   "metadata": {},
   "outputs": [
    {
     "name": "stdout",
     "output_type": "stream",
     "text": [
      "\n",
      "Benar.. Itu adalah ertiga\n"
     ]
    }
   ],
   "source": [
    "# Input\n",
    "boros = True\n",
    "bahan_bakar_tinggi = True\n",
    "bentuk_panjang = True\n",
    "bentuk_kecil = True\n",
    "offroad = True\n",
    "\n",
    "\n",
    "if bahan_bakar_tinggi and bentuk_kecil :\n",
    "    print(\"\\nBenar.. Itu adalah ertiga\")\n",
    "elif boros and offroad :\n",
    "    print(\"\\nBenar.. Itu adalah jeep\")\n",
    "elif bentuk_panjang and bahan_bakar_tinggi :\n",
    "    print(\"\\nBenar.. Itu adalah camry\")\n",
    "elif boros and bentuk_kecil and bahan_bakar_tinggi :\n",
    "    print(\"\\nBenar.. Itu adalah kijang innova\")\n",
    "elif boros and bentuk_panjang and bahan_bakar_tinggi :\n",
    "    print(\"\\nBenar.. Itu adalah fortuner\")\n",
    "elif boros and bahan_bakar_tinggi and bentuk_panjang and offroad :\n",
    "    print(\"\\nBenar.. Itu adalah pajero\")\n",
    "else:\n",
    "    print(\"\\nTidak ditemukan!\")"
   ]
  },
  {
   "cell_type": "markdown",
   "metadata": {},
   "source": [
    "Forward Chaining"
   ]
  },
  {
   "cell_type": "code",
   "execution_count": 5,
   "metadata": {},
   "outputs": [
    {
     "name": "stdout",
     "output_type": "stream",
     "text": [
      "\n",
      "Itu adalah ertiga\n"
     ]
    }
   ],
   "source": [
    "ertiga = True\n",
    "jeep = False\n",
    "camry = False\n",
    "kijang_innova = False\n",
    "fortuner = False\n",
    "pajero = True\n",
    "\n",
    "\n",
    "boros = True\n",
    "bahan_bakar_tinggi = True\n",
    "bentuk_panjang = True\n",
    "bentuk_kecil = True\n",
    "offroad = True\n",
    "\n",
    "\n",
    "if bahan_bakar_tinggi and bentuk_kecil:\n",
    "    print(\"\\nItu adalah ertiga\")\n",
    "elif boros and offroad :\n",
    "    print(\"\\nItu adalah jeep\")\n",
    "elif bentuk_panjang and bahan_bakar_tinggi:\n",
    "    print(\"\\nItu adalah camry\")\n",
    "elif boros and bentuk_kecil and bahan_bakar_tinggi :\n",
    "    print(\"\\nItu adalah kijang innova\")\n",
    "elif boros and bentuk_panjang and bahan_bakar_tinggi :\n",
    "    print(\"\\nItu adalah fortuner\")\n",
    "elif boros and bahan_bakar_tinggi and bentuk_panjang and offroad:\n",
    "    print(\"\\nItu adalah pajero\")\n",
    "else:\n",
    "    print(\"\\nTidak ditemukan!\")"
   ]
  }
 ],
 "metadata": {
  "kernelspec": {
   "display_name": "Python 3.10.12 64-bit",
   "language": "python",
   "name": "python3"
  },
  "language_info": {
   "codemirror_mode": {
    "name": "ipython",
    "version": 3
   },
   "file_extension": ".py",
   "mimetype": "text/x-python",
   "name": "python",
   "nbconvert_exporter": "python",
   "pygments_lexer": "ipython3",
   "version": "3.10.12"
  },
  "orig_nbformat": 4,
  "vscode": {
   "interpreter": {
    "hash": "916dbcbb3f70747c44a77c7bcd40155683ae19c65e1c03b4aa3499c5328201f1"
   }
  }
 },
 "nbformat": 4,
 "nbformat_minor": 2
}
